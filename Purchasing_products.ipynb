{
  "nbformat": 4,
  "nbformat_minor": 0,
  "metadata": {
    "colab": {
      "name": "Purchasing_products.ipynb",
      "provenance": []
    },
    "kernelspec": {
      "name": "python3",
      "display_name": "Python 3"
    },
    "language_info": {
      "name": "python"
    }
  },
  "cells": [
    {
      "cell_type": "markdown",
      "metadata": {
        "id": "ZkmJEjA1AoZe"
      },
      "source": [
        "##**Read Inventory**"
      ]
    },
    {
      "cell_type": "code",
      "metadata": {
        "id": "U7aCMH_rA09r"
      },
      "source": [
        "import json\n",
        "\n",
        "fd = open(\"record.json\",'r')\n",
        "r = fd.read()\n",
        "fd.close()\n",
        "\n",
        "records = json.loads(r)"
      ],
      "execution_count": 171,
      "outputs": []
    },
    {
      "cell_type": "code",
      "metadata": {
        "id": "sdfze2onBdVv"
      },
      "source": [
        "records"
      ],
      "execution_count": null,
      "outputs": []
    },
    {
      "cell_type": "markdown",
      "metadata": {
        "id": "CFng8IHkBmZi"
      },
      "source": [
        "##**Purchase**"
      ]
    },
    {
      "cell_type": "code",
      "metadata": {
        "colab": {
          "base_uri": "https://localhost:8080/"
        },
        "id": "er6_MjlBBr5h",
        "outputId": "ec6e9c23-1a1f-4c86-8fee-78deb3bb8055"
      },
      "source": [
        "ui_prod  = str(input(\"Enter the product_Id to purchase: \"))\n",
        "ui_quant = int(input(\"Enter the quantity you want: \"))\n",
        "count = 0 \n",
        "if ui_prod in records.keys() and (ui_quant<records[ui_prod]['qn']):\n",
        "  print(\"Product: \", records[ui_prod]['name'])\n",
        "  print(\"Price: \", records[ui_prod]['pr'])\n",
        "  print(\"Billing Amount: \", records[ui_prod]['pr'] * ui_quant)\n",
        "  records[ui_prod]['qn'] = records[ui_prod]['qn'] - ui_quant\n",
        "  count+=1\n",
        "\n",
        "elif ui_prod in records.keys() and (ui_quant>records[ui_prod]['qn']):\n",
        "  print(\"Not available!!Out of stock,Have a nice day!!\")\n",
        "\n",
        "elif ui_prod in records.keys() and (ui_quant==records[ui_prod]['qn']):\n",
        "  records[ui_prod]['qn'] = records[ui_prod]['qn'] - ui_quant\n",
        "  print(\"Thank You!!!.. You purchased our whole stock , Have a nice day!!\")\n",
        "\n",
        "else:\n",
        "  print(\"Invalid id entered\")\n",
        "\n",
        "\n"
      ],
      "execution_count": 173,
      "outputs": [
        {
          "output_type": "stream",
          "name": "stdout",
          "text": [
            "Enter the product_Id to purchase: 1001\n",
            "Enter the quantity you want: 5\n",
            "Product:  Choco Cake\n",
            "Price:  100\n",
            "Billing Amount:  500\n"
          ]
        }
      ]
    },
    {
      "cell_type": "code",
      "metadata": {
        "id": "nfOoGcILHjwt"
      },
      "source": [
        "js = json.dumps(records)\n",
        "\n",
        "fd = open(\"record.json\",'w')\n",
        "fd.write(js)\n",
        "fd.close()"
      ],
      "execution_count": 174,
      "outputs": []
    },
    {
      "cell_type": "code",
      "metadata": {
        "id": "IQSxwt5AIAKC"
      },
      "source": [
        "records"
      ],
      "execution_count": null,
      "outputs": []
    },
    {
      "cell_type": "code",
      "metadata": {
        "id": "mOD4UXBCDazW"
      },
      "source": [
        "sale = {}\n",
        "\n",
        "js = json.dumps(sale)"
      ],
      "execution_count": 175,
      "outputs": []
    },
    {
      "cell_type": "code",
      "metadata": {
        "colab": {
          "base_uri": "https://localhost:8080/",
          "height": 35
        },
        "id": "DjU0vYYDFuzh",
        "outputId": "98572f42-5f6f-4db8-fa2a-37b538f1de7a"
      },
      "source": [
        "js"
      ],
      "execution_count": null,
      "outputs": [
        {
          "output_type": "execute_result",
          "data": {
            "application/vnd.google.colaboratory.intrinsic+json": {
              "type": "string"
            },
            "text/plain": [
              "'{}'"
            ]
          },
          "metadata": {},
          "execution_count": 152
        }
      ]
    },
    {
      "cell_type": "code",
      "metadata": {
        "id": "edNQZBDiF_TM"
      },
      "source": [
        "fd= open(\"sale.json\",'r')\n",
        "read =fd.read()\n",
        "fd.close()\n",
        "\n",
        "sales =json.loads(r)"
      ],
      "execution_count": null,
      "outputs": []
    },
    {
      "cell_type": "code",
      "metadata": {
        "id": "1lit-FhnFetu"
      },
      "source": [
        "for i in range(1,31):\n",
        "  sale[id] = {'product':ui_prod,'quantity':ui_quant,'amount':records[ui_prod]['pr'] * ui_quant}\n",
        "\n",
        "  js = json.dumps(sales)\n",
        "\n",
        "  fd= open(\"sale.json\",'w')\n",
        "  fd.write(js)\n",
        "  fd.close()"
      ],
      "execution_count": 176,
      "outputs": []
    },
    {
      "cell_type": "code",
      "metadata": {
        "colab": {
          "base_uri": "https://localhost:8080/"
        },
        "id": "9DDNgxNSDM6l",
        "outputId": "be42e86a-9a3d-4e50-b3e6-2a5784360918"
      },
      "source": [
        "sale"
      ],
      "execution_count": 177,
      "outputs": [
        {
          "output_type": "execute_result",
          "data": {
            "text/plain": [
              "{'1': {'amount': 500, 'product': '1001', 'quantity': 5}}"
            ]
          },
          "metadata": {},
          "execution_count": 177
        }
      ]
    }
  ]
}