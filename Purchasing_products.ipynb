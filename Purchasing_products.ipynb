{
  "nbformat": 4,
  "nbformat_minor": 0,
  "metadata": {
    "colab": {
      "name": "Purchasing_products.ipynb",
      "provenance": []
    },
    "kernelspec": {
      "name": "python3",
      "display_name": "Python 3"
    },
    "language_info": {
      "name": "python"
    }
  },
  "cells": [
    {
      "cell_type": "markdown",
      "metadata": {
        "id": "ZkmJEjA1AoZe"
      },
      "source": [
        "##**Read Inventory**"
      ]
    },
    {
      "cell_type": "code",
      "metadata": {
        "id": "U7aCMH_rA09r"
      },
      "source": [
        "import json\n",
        "from datetime import datetime\n",
        "\n",
        "fd = open(\"record.json\",'r')\n",
        "r = fd.read()\n",
        "fd.close()\n",
        "\n",
        "records = json.loads(r)\n",
        "\n",
        "sales = {}\n",
        "\n",
        "sales = json.dumps(sales)\n",
        "\n",
        "fd = open(\"sales.json\", 'w')\n",
        "fd.write(sales)\n",
        "fd.close()"
      ],
      "execution_count": 1,
      "outputs": []
    },
    {
      "cell_type": "code",
      "metadata": {
        "id": "sdfze2onBdVv"
      },
      "source": [
        "records"
      ],
      "execution_count": null,
      "outputs": []
    },
    {
      "cell_type": "markdown",
      "metadata": {
        "id": "CFng8IHkBmZi"
      },
      "source": [
        "##**Purchase**"
      ]
    },
    {
      "cell_type": "code",
      "metadata": {
        "colab": {
          "base_uri": "https://localhost:8080/"
        },
        "id": "er6_MjlBBr5h",
        "outputId": "63b7057b-1ab0-48b5-92fc-7e3937d32477"
      },
      "source": [
        "fd = open(\"sales.json\", 'r')\n",
        "sl = fd.read()\n",
        "fd.close()\n",
        "sales = json.loads(sl)\n",
        "\n",
        "ui_prod  = str(input(\"Enter the product_Id to purchase: \"))\n",
        "ui_quant = int(input(\"Enter the quantity you want: \")) \n",
        "\n",
        "if ui_prod in records.keys() and (ui_quant<records[ui_prod]['qn']):\n",
        "  print(\"-----------------------------------------------\")\n",
        "  print(\"Product: \", records[ui_prod]['name'])\n",
        "  print(\"Price: \", records[ui_prod]['pr'])\n",
        "  print(\"**************************************\")\n",
        "  print(\"Date and time : \",datetime.now())\n",
        "  print(\"Billing Amount: \", records[ui_prod]['pr'] * ui_quant)\n",
        "  print(\"**************************************\")\n",
        "  print(\"-----------------------------------------------\")\n",
        "\n",
        "  sales[str(len(sales))+1] = {'prod' : ui_prod,         #updating transactiom\n",
        "                            'name': records[ui_prod]['name'],\n",
        "                            'qn' : ui_quant, \n",
        "                            'price':records[ui_prod]['pr'],\n",
        "                            'time':datetime.now(),\n",
        "                            'Bill amount': records[ui_prod]['pr']*ui_quant}\n",
        "  \n",
        "  records[ui_prod]['qn'] = records[ui_prod]['qn'] - ui_quant   #updating inventory\n",
        "\n",
        "elif ui_prod in records.keys() and (ui_quant>records[ui_prod]['qn']):\n",
        "  print(\"Not available!!Out of stock,Have a nice day!!\")\n",
        "\n",
        "elif ui_prod in records.keys() and (ui_quant==records[ui_prod]['qn']):\n",
        "  records[ui_prod]['qn'] = records[ui_prod]['qn'] - ui_quant\n",
        "  print(\"Thank You!!!.. You purchased our whole stock , Have a nice day!!\")\n",
        "\n",
        "else:\n",
        "  print(\"Invalid id entered\")\n",
        "\n",
        "\n"
      ],
      "execution_count": 37,
      "outputs": [
        {
          "output_type": "stream",
          "name": "stdout",
          "text": [
            "Enter the product_Id to purchase: 1014\n",
            "Enter the quantity you want: 1\n",
            "-----------------------------------------------\n",
            "Product:  Wall Clock\n",
            "Price:  600\n",
            "**************************************\n",
            "Date and time :  2021-09-09 13:18:28.734147\n",
            "Billing Amount:  600\n",
            "**************************************\n",
            "-----------------------------------------------\n"
          ]
        }
      ]
    },
    {
      "cell_type": "code",
      "metadata": {
        "id": "LvnzBHdQAwtr"
      },
      "source": [
        "js = json.dumps(records)\n",
        "fd = open(\"record.json\",'w')\n",
        "fd.write(js)\n",
        "fd.close()\n",
        "\n",
        "sl = json.dumps(sales,default=str)\n",
        "fd = open('sales.json','w')\n",
        "fd.write(sl)\n",
        "fd.close()"
      ],
      "execution_count": 38,
      "outputs": []
    },
    {
      "cell_type": "code",
      "metadata": {
        "colab": {
          "base_uri": "https://localhost:8080/"
        },
        "id": "Vek-gbspxIl_",
        "outputId": "c75f19a9-9402-4ada-f0d5-b5d1a6c9b479"
      },
      "source": [
        "sales"
      ],
      "execution_count": 39,
      "outputs": [
        {
          "output_type": "execute_result",
          "data": {
            "text/plain": [
              "{'1': {'Bill amount': 1000,\n",
              "  'name': 'Pizza',\n",
              "  'price': 250,\n",
              "  'prod': '1016',\n",
              "  'qn': 4,\n",
              "  'time': '2021-09-09 13:12:56.308149'},\n",
              " '10': {'Bill amount': 2000,\n",
              "  'name': 'Lamp',\n",
              "  'price': 1000,\n",
              "  'prod': '1013',\n",
              "  'qn': 2,\n",
              "  'time': '2021-09-09 13:17:08.060939'},\n",
              " '11': {'Bill amount': 4000,\n",
              "  'name': 'Edible oil',\n",
              "  'price': 2000,\n",
              "  'prod': '1028',\n",
              "  'qn': 2,\n",
              "  'time': '2021-09-09 13:17:50.587586'},\n",
              " 12: {'Bill amount': 600,\n",
              "  'name': 'Wall Clock',\n",
              "  'price': 600,\n",
              "  'prod': '1014',\n",
              "  'qn': 1,\n",
              "  'time': datetime.datetime(2021, 9, 9, 13, 18, 28, 734325)},\n",
              " '2': {'Bill amount': 1800,\n",
              "  'name': 'Ghee',\n",
              "  'price': 900,\n",
              "  'prod': '1020',\n",
              "  'qn': 2,\n",
              "  'time': '2021-09-09 13:13:40.836070'},\n",
              " '3': {'Bill amount': 3000,\n",
              "  'name': 'Room Heater',\n",
              "  'price': 1500,\n",
              "  'prod': '1026',\n",
              "  'qn': 2,\n",
              "  'time': '2021-09-09 13:14:03.710688'},\n",
              " '4': {'Bill amount': 1500,\n",
              "  'name': 'Shampoo',\n",
              "  'price': 500,\n",
              "  'prod': '1023',\n",
              "  'qn': 3,\n",
              "  'time': '2021-09-09 13:14:24.598609'},\n",
              " '5': {'Bill amount': 300,\n",
              "  'name': 'Torch',\n",
              "  'price': 300,\n",
              "  'prod': '1019',\n",
              "  'qn': 1,\n",
              "  'time': '2021-09-09 13:14:57.083714'},\n",
              " '6': {'Bill amount': 6000,\n",
              "  'name': 'Mic',\n",
              "  'price': 2000,\n",
              "  'prod': '1007',\n",
              "  'qn': 3,\n",
              "  'time': '2021-09-09 13:15:15.768229'},\n",
              " '7': {'Bill amount': 2000,\n",
              "  'name': 'Automatic Electric Iron',\n",
              "  'price': 1000,\n",
              "  'prod': '1021',\n",
              "  'qn': 2,\n",
              "  'time': '2021-09-09 13:15:40.843072'},\n",
              " '8': {'Bill amount': 160,\n",
              "  'name': 'Dura cell',\n",
              "  'price': 80,\n",
              "  'prod': '1018',\n",
              "  'qn': 2,\n",
              "  'time': '2021-09-09 13:15:59.663465'},\n",
              " '9': {'Bill amount': 120,\n",
              "  'name': 'Crcoin Tablet',\n",
              "  'price': 30,\n",
              "  'prod': '1025',\n",
              "  'qn': 4,\n",
              "  'time': '2021-09-09 13:16:32.543081'}}"
            ]
          },
          "metadata": {},
          "execution_count": 39
        }
      ]
    }
  ]
}